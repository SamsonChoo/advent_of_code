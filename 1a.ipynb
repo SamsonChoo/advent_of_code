{
  "nbformat": 4,
  "nbformat_minor": 0,
  "metadata": {
    "colab": {
      "provenance": [],
      "authorship_tag": "ABX9TyNlInYbw7K+j47o6hweg0+t",
      "include_colab_link": true
    },
    "kernelspec": {
      "name": "python3",
      "display_name": "Python 3"
    },
    "language_info": {
      "name": "python"
    }
  },
  "cells": [
    {
      "cell_type": "markdown",
      "metadata": {
        "id": "view-in-github",
        "colab_type": "text"
      },
      "source": [
        "<a href=\"https://colab.research.google.com/github/SamsonChoo/advent_of_code/blob/main/1a.ipynb\" target=\"_parent\"><img src=\"https://colab.research.google.com/assets/colab-badge.svg\" alt=\"Open In Colab\"/></a>"
      ]
    },
    {
      "cell_type": "code",
      "source": [
        "file = open(\"input.txt\", \"r\")\n",
        "number = 0\n",
        "for line in file.readlines():\n",
        "    number += getCalValue(line)\n",
        "print(number)\n",
        "file.close()"
      ],
      "metadata": {
        "colab": {
          "base_uri": "https://localhost:8080/"
        },
        "id": "SF3V8zcFzp-O",
        "outputId": "94cc268b-4243-49c6-fdae-f7cc07ce72c5"
      },
      "execution_count": 25,
      "outputs": [
        {
          "output_type": "stream",
          "name": "stdout",
          "text": [
            "55816\n"
          ]
        }
      ]
    },
    {
      "cell_type": "code",
      "source": [
        "def getCalValue(line: str):\n",
        "  start = -1\n",
        "  end = -1\n",
        "  for char in line:\n",
        "    if char.isnumeric():\n",
        "      if start == -1:\n",
        "        start = char\n",
        "      end = char\n",
        "\n",
        "  return int(start+end)\n",
        "\n",
        "getCalValue(\"5afwe4\")"
      ],
      "metadata": {
        "colab": {
          "base_uri": "https://localhost:8080/"
        },
        "id": "mXxuvk71zrVW",
        "outputId": "fb1bd1c8-c537-4b38-eadc-60a285d92bde"
      },
      "execution_count": 24,
      "outputs": [
        {
          "output_type": "execute_result",
          "data": {
            "text/plain": [
              "54"
            ]
          },
          "metadata": {},
          "execution_count": 24
        }
      ]
    },
    {
      "cell_type": "code",
      "source": [
        "getCalValue(\"af3we\")"
      ],
      "metadata": {
        "colab": {
          "base_uri": "https://localhost:8080/"
        },
        "id": "vwxW64-30d0U",
        "outputId": "5d2515de-04ad-4f4f-eda7-9ebaac3bfba8"
      },
      "execution_count": 22,
      "outputs": [
        {
          "output_type": "execute_result",
          "data": {
            "text/plain": [
              "6"
            ]
          },
          "metadata": {},
          "execution_count": 22
        }
      ]
    },
    {
      "cell_type": "code",
      "source": [],
      "metadata": {
        "id": "8PCTUWJj1cPO"
      },
      "execution_count": null,
      "outputs": []
    }
  ]
}
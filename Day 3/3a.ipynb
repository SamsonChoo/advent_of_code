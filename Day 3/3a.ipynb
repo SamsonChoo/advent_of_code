{
  "nbformat": 4,
  "nbformat_minor": 0,
  "metadata": {
    "colab": {
      "provenance": [],
      "authorship_tag": "ABX9TyMPR4ouE1EBcFmaPdVjmbrN",
      "include_colab_link": true
    },
    "kernelspec": {
      "name": "python3",
      "display_name": "Python 3"
    },
    "language_info": {
      "name": "python"
    }
  },
  "cells": [
    {
      "cell_type": "markdown",
      "metadata": {
        "id": "view-in-github",
        "colab_type": "text"
      },
      "source": [
        "<a href=\"https://colab.research.google.com/github/SamsonChoo/advent_of_code/blob/main/Day%203/3a.ipynb\" target=\"_parent\"><img src=\"https://colab.research.google.com/assets/colab-badge.svg\" alt=\"Open In Colab\"/></a>"
      ]
    },
    {
      "cell_type": "markdown",
      "source": [
        "--- Day 3: Gear Ratios ---\n",
        "\n",
        "You and the Elf eventually reach a gondola lift station; he says the gondola lift will take you up to the water source, but this is as far as he can bring you. You go inside.\n",
        "\n",
        "It doesn't take long to find the gondolas, but there seems to be a problem: they're not moving.\n",
        "\n",
        "\"Aaah!\"\n",
        "\n",
        "You turn around to see a slightly-greasy Elf with a wrench and a look of surprise. \"Sorry, I wasn't expecting anyone! The gondola lift isn't working right now; it'll still be a while before I can fix it.\" You offer to help.\n",
        "\n",
        "The engineer explains that an engine part seems to be missing from the engine, but nobody can figure out which one. If you can add up all the part numbers in the engine schematic, it should be easy to work out which part is missing.\n",
        "\n",
        "The engine schematic (your puzzle input) consists of a visual representation of the engine. There are lots of numbers and symbols you don't really understand, but apparently any number adjacent to a symbol, even diagonally, is a \"part number\" and should be included in your sum. (Periods (.) do not count as a symbol.)\n",
        "\n",
        "Here is an example engine schematic:\n",
        "\n",
        "467..114..\n",
        "\n",
        "...*......\n",
        "\n",
        "..35..633.\n",
        "\n",
        "......#...\n",
        "\n",
        "617*......\n",
        "\n",
        ".....+.58.\n",
        "\n",
        "..592.....\n",
        "\n",
        "......755.\n",
        "\n",
        "...$.*....\n",
        "\n",
        ".664.598..\n",
        "\n",
        "In this schematic, two numbers are not part numbers because they are not adjacent to a symbol: 114 (top right) and 58 (middle right). Every other number is adjacent to a symbol and so is a part number; their sum is 4361.\n",
        "\n",
        "Of course, the actual engine schematic is much larger. What is the sum of all of the part numbers in the engine schematic?"
      ],
      "metadata": {
        "id": "_DmmwC5f4YEp"
      }
    },
    {
      "cell_type": "code",
      "source": [
        "import numpy as np"
      ],
      "metadata": {
        "id": "tXBQGOUrCUkB"
      },
      "execution_count": 1,
      "outputs": []
    },
    {
      "cell_type": "code",
      "source": [
        "file = open(\"input.txt\", \"r\")\n",
        "number = 0\n",
        "matrix = []\n",
        "for line in file.readlines():\n",
        "    matrix.append(line.strip())\n",
        "file.close()"
      ],
      "metadata": {
        "id": "SF3V8zcFzp-O"
      },
      "execution_count": 2,
      "outputs": []
    },
    {
      "cell_type": "code",
      "source": [
        "def checkVal(s: str) -> bool:\n",
        "  for char in s:\n",
        "    if not char.isnumeric() and char != '.':\n",
        "      return True\n",
        "  return False"
      ],
      "metadata": {
        "id": "uiaRMMMR9DYf"
      },
      "execution_count": 3,
      "outputs": []
    },
    {
      "cell_type": "code",
      "source": [
        "def main():\n",
        "  running_count = 0\n",
        "  current_number = ''\n",
        "\n",
        "  def add_number():\n",
        "    nonlocal running_count\n",
        "    nonlocal current_number\n",
        "    number = int(current_number)\n",
        "    current_number = ''\n",
        "    running_count += number\n",
        "\n",
        "  for ridx, row in enumerate(matrix):\n",
        "    for cidx, char in enumerate(row):\n",
        "      end_of_line_num = (char.isnumeric() and cidx == len(row)-1)\n",
        "      if char == '.' or end_of_line_num:\n",
        "        if end_of_line_num:\n",
        "          current_number += char\n",
        "        if current_number == '':\n",
        "          continue\n",
        "        # logic to determine validity\n",
        "        length = len(current_number)\n",
        "        start = cidx-length\n",
        "        if end_of_line_num:\n",
        "          start += 1\n",
        "        end = cidx\n",
        "        # check left\n",
        "        if start > 0:\n",
        "          check = row[start-1]\n",
        "          if checkVal(check):\n",
        "            add_number()\n",
        "            continue\n",
        "        # check up\n",
        "        if ridx > 0:\n",
        "          if start > 0 and end < len(row):\n",
        "            check = matrix[ridx-1][start-1:end+1]\n",
        "          elif start == 0 and end < len(row):\n",
        "            check = matrix[ridx-1][start:end+1]\n",
        "          elif start > 0 and end == len(row):\n",
        "            check = matrix[ridx-1][start-1:end]\n",
        "          else:\n",
        "            pass\n",
        "          if checkVal(check):\n",
        "            add_number()\n",
        "            continue\n",
        "        # check down\n",
        "        if ridx < len(matrix)-1:\n",
        "          if start > 0 and end < len(row):\n",
        "            check = matrix[ridx+1][start-1:end+1]\n",
        "          elif start == 0 and end < len(row):\n",
        "            check = matrix[ridx+1][start:end+1]\n",
        "          elif start > 0 and end == len(row):\n",
        "            check = matrix[ridx+1][start-1:end]\n",
        "          else:\n",
        "            pass\n",
        "          if checkVal(check):\n",
        "            add_number()\n",
        "            continue\n",
        "        current_number = ''\n",
        "        continue\n",
        "      if char.isnumeric():\n",
        "        current_number += char\n",
        "        continue\n",
        "      # case when it is symbol\n",
        "      if current_number == '':\n",
        "        continue\n",
        "      # current_number not blank\n",
        "      add_number()\n",
        "      continue\n",
        "  return running_count"
      ],
      "metadata": {
        "id": "7kBIu-fq5XNp"
      },
      "execution_count": 4,
      "outputs": []
    },
    {
      "cell_type": "code",
      "source": [
        "main()"
      ],
      "metadata": {
        "colab": {
          "base_uri": "https://localhost:8080/"
        },
        "id": "IGl52B4-DJFk",
        "outputId": "9739dfe2-f4a5-4e46-a966-a894cc7fa42c"
      },
      "execution_count": 5,
      "outputs": [
        {
          "output_type": "execute_result",
          "data": {
            "text/plain": [
              "509115"
            ]
          },
          "metadata": {},
          "execution_count": 5
        }
      ]
    }
  ]
}
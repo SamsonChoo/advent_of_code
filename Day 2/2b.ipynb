{
  "nbformat": 4,
  "nbformat_minor": 0,
  "metadata": {
    "colab": {
      "provenance": [],
      "authorship_tag": "ABX9TyOsEGB6VeNmgE+z7ZES4G4X",
      "include_colab_link": true
    },
    "kernelspec": {
      "name": "python3",
      "display_name": "Python 3"
    },
    "language_info": {
      "name": "python"
    }
  },
  "cells": [
    {
      "cell_type": "markdown",
      "metadata": {
        "id": "view-in-github",
        "colab_type": "text"
      },
      "source": [
        "<a href=\"https://colab.research.google.com/github/SamsonChoo/advent_of_code/blob/main/Day%202/2b.ipynb\" target=\"_parent\"><img src=\"https://colab.research.google.com/assets/colab-badge.svg\" alt=\"Open In Colab\"/></a>"
      ]
    },
    {
      "cell_type": "markdown",
      "source": [
        "--- Part Two ---\n",
        "\n",
        "The Elf says they've stopped producing snow because they aren't getting any water! He isn't sure why the water stopped; however, he can show you how to get to the water source to check it out for yourself. It's just up ahead!\n",
        "\n",
        "As you continue your walk, the Elf poses a second question: in each game you played, what is the fewest number of cubes of each color that could have been in the bag to make the game possible?\n",
        "\n",
        "Again consider the example games from earlier:\n",
        "\n",
        "Game 1: 3 blue, 4 red; 1 red, 2 green, 6 blue; 2 green\n",
        "\n",
        "Game 2: 1 blue, 2 green; 3 green, 4 blue, 1 red; 1 green, 1 blue\n",
        "\n",
        "Game 3: 8 green, 6 blue, 20 red; 5 blue, 4 red, 13 green; 5 green, 1 red\n",
        "\n",
        "Game 4: 1 green, 3 red, 6 blue; 3 green, 6 red; 3 green, 15 blue, 14 red\n",
        "\n",
        "Game 5: 6 red, 1 blue, 3 green; 2 blue, 1 red, 2 green\n",
        "\n",
        "In game 1, the game could have been played with as few as 4 red, 2 green, and 6 blue cubes. If any color had even one fewer cube, the game would have been impossible.\n",
        "\n",
        "Game 2 could have been played with a minimum of 1 red, 3 green, and 4 blue cubes.\n",
        "\n",
        "Game 3 must have been played with at least 20 red, 13 green, and 6 blue cubes.\n",
        "\n",
        "Game 4 required at least 14 red, 3 green, and 15 blue cubes.\n",
        "\n",
        "Game 5 needed no fewer than 6 red, 3 green, and 2 blue cubes in the bag.\n",
        "\n",
        "The power of a set of cubes is equal to the numbers of red, green, and blue cubes multiplied together. The power of the minimum set of cubes in game 1 is 48. In games 2-5 it was 12, 1560, 630, and 36, respectively. Adding up these five powers produces the sum 2286.\n",
        "\n",
        "For each game, find the minimum set of cubes that must have been present. What is the sum of the power of these sets?"
      ],
      "metadata": {
        "id": "_DmmwC5f4YEp"
      }
    },
    {
      "cell_type": "code",
      "source": [
        "def getValue(line: str):\n",
        "  line_rev = line[::-1]\n",
        "  leng = len(line_rev)\n",
        "  i=0\n",
        "  colour_map = {\n",
        "      \"d\": 0,  # red\n",
        "      \"n\": 0,  # green\n",
        "      \"e\": 0   # blue\n",
        "  }\n",
        "\n",
        "  while i<leng:\n",
        "    char = line_rev[i]\n",
        "    if char == ':':\n",
        "      power = colour_map[\"d\"] * colour_map[\"e\"] * colour_map[\"n\"]\n",
        "      return power\n",
        "    if char == \"d\":  # red\n",
        "      num_rev = line_rev[i+4:i+6]\n",
        "      num = int(num_rev[::-1])\n",
        "      if num > colour_map[\"d\"]:\n",
        "        colour_map[\"d\"] = num\n",
        "      i += 6\n",
        "      continue\n",
        "    if char == \"n\":  # green\n",
        "      num_rev = line_rev[i+6:i+8]\n",
        "      num = int(num_rev[::-1])\n",
        "      if num > colour_map[\"n\"]:\n",
        "        colour_map[\"n\"] = num\n",
        "      i += 8\n",
        "      continue\n",
        "    if char == \"e\":  # blue\n",
        "      num_rev = line_rev[i+5:i+7]\n",
        "      num = int(num_rev[::-1])\n",
        "      if num > colour_map[\"e\"]:\n",
        "        colour_map[\"e\"] = num\n",
        "      i += 7\n",
        "      continue\n",
        "    i += 1\n",
        "\n",
        "  return -1"
      ],
      "metadata": {
        "id": "mXxuvk71zrVW"
      },
      "execution_count": 1,
      "outputs": []
    },
    {
      "cell_type": "code",
      "source": [
        "file = open(\"input.txt\", \"r\")\n",
        "number = 0\n",
        "for line in file.readlines():\n",
        "    number += getValue(line)\n",
        "file.close()"
      ],
      "metadata": {
        "id": "SF3V8zcFzp-O"
      },
      "execution_count": 2,
      "outputs": []
    },
    {
      "cell_type": "code",
      "source": [
        "print(number)"
      ],
      "metadata": {
        "colab": {
          "base_uri": "https://localhost:8080/"
        },
        "id": "tXBQGOUrCUkB",
        "outputId": "30326c95-d3c6-436e-a913-b7495345404d"
      },
      "execution_count": 3,
      "outputs": [
        {
          "output_type": "stream",
          "name": "stdout",
          "text": [
            "69929\n"
          ]
        }
      ]
    }
  ]
}
{
  "nbformat": 4,
  "nbformat_minor": 0,
  "metadata": {
    "colab": {
      "provenance": [],
      "authorship_tag": "ABX9TyMXwDWLTtcs9BzzcjFilfAs",
      "include_colab_link": true
    },
    "kernelspec": {
      "name": "python3",
      "display_name": "Python 3"
    },
    "language_info": {
      "name": "python"
    }
  },
  "cells": [
    {
      "cell_type": "markdown",
      "metadata": {
        "id": "view-in-github",
        "colab_type": "text"
      },
      "source": [
        "<a href=\"https://colab.research.google.com/github/SamsonChoo/advent_of_code/blob/main/Day%201/1b.ipynb\" target=\"_parent\"><img src=\"https://colab.research.google.com/assets/colab-badge.svg\" alt=\"Open In Colab\"/></a>"
      ]
    },
    {
      "cell_type": "markdown",
      "source": [
        "--- Part Two ---\n",
        "\n",
        "Your calculation isn't quite right. It looks like some of the digits are actually spelled out with letters: one, two, three, four, five, six, seven, eight, and nine also count as valid \"digits\".\n",
        "\n",
        "Equipped with this new information, you now need to find the real first and last digit on each line. For example:\n",
        "\n",
        "two1nine\n",
        "\n",
        "eightwothree\n",
        "\n",
        "abcone2threexyz\n",
        "\n",
        "xtwone3four\n",
        "\n",
        "4nineeightseven2\n",
        "\n",
        "zoneight234\n",
        "\n",
        "7pqrstsixteen\n",
        "\n",
        "In this example, the calibration values are 29, 83, 13, 24, 42, 14, and 76. Adding these together produces 281.\n",
        "\n",
        "What is the sum of all of the calibration values?"
      ],
      "metadata": {
        "id": "GC6z_mb-5vh0"
      }
    },
    {
      "cell_type": "code",
      "source": [
        "numberStringMap = {\n",
        "  'one': '1',\n",
        "  'two': '2',\n",
        "  'three': '3',\n",
        "  'four': '4',\n",
        "  'five': '5',\n",
        "  'six': '6',\n",
        "  'seven': '7',\n",
        "  'eight': '8',\n",
        "  'nine': '9'\n",
        "}"
      ],
      "metadata": {
        "id": "P7HwMsRLALRr"
      },
      "execution_count": null,
      "outputs": []
    },
    {
      "cell_type": "code",
      "source": [
        "def getCalValue(line: str):\n",
        "  length = len(line)\n",
        "\n",
        "  def getNextString(idx: int) -> str:\n",
        "    nextStringLength = length - idx\n",
        "    if nextStringLength < 3:  # less than 3 characters, not possible to be numberString\n",
        "      return ''\n",
        "    if nextStringLength >= 3 and nextStringLength <=5:  # last 3/4/5 characters\n",
        "      return line[idx:]\n",
        "    return line[idx:idx+5]  # return next 5 chars\n",
        "\n",
        "  start = -1\n",
        "  end = -1\n",
        "  for idx, char in enumerate(line):\n",
        "    if char.isnumeric():\n",
        "      if start == -1:\n",
        "        start = char\n",
        "      end = char\n",
        "    else:\n",
        "      nextString = getNextString(idx)\n",
        "      number = isNumber(nextString)\n",
        "      if number != '':\n",
        "        if start == -1:\n",
        "          start = number\n",
        "        end = number\n",
        "\n",
        "  return int(start+end)"
      ],
      "metadata": {
        "id": "mXxuvk71zrVW"
      },
      "execution_count": null,
      "outputs": []
    },
    {
      "cell_type": "code",
      "source": [
        "def isNumber(subString: str) -> str:\n",
        "  for key in numberStringMap:\n",
        "    if key == subString[:len(key)]:\n",
        "      return numberStringMap[key]\n",
        "\n",
        "  return ''"
      ],
      "metadata": {
        "id": "HhR3Y1z55gmH"
      },
      "execution_count": null,
      "outputs": []
    },
    {
      "cell_type": "code",
      "source": [
        "file = open(\"input.txt\", \"r\")\n",
        "number = 0\n",
        "for line in file.readlines():\n",
        "    number += getCalValue(line)\n",
        "file.close()"
      ],
      "metadata": {
        "id": "SF3V8zcFzp-O"
      },
      "execution_count": null,
      "outputs": []
    },
    {
      "cell_type": "code",
      "source": [
        "print(number)"
      ],
      "metadata": {
        "colab": {
          "base_uri": "https://localhost:8080/"
        },
        "id": "tXBQGOUrCUkB",
        "outputId": "d5292933-2ed8-411b-9389-3db40a9c17d3"
      },
      "execution_count": null,
      "outputs": [
        {
          "output_type": "stream",
          "name": "stdout",
          "text": [
            "54980\n"
          ]
        }
      ]
    }
  ]
}
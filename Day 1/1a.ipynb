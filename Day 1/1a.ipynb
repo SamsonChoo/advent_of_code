{
  "nbformat": 4,
  "nbformat_minor": 0,
  "metadata": {
    "colab": {
      "provenance": [],
      "authorship_tag": "ABX9TyPMIryBXEAoA/GGp0lfrrzJ",
      "include_colab_link": true
    },
    "kernelspec": {
      "name": "python3",
      "display_name": "Python 3"
    },
    "language_info": {
      "name": "python"
    }
  },
  "cells": [
    {
      "cell_type": "markdown",
      "metadata": {
        "id": "view-in-github",
        "colab_type": "text"
      },
      "source": [
        "<a href=\"https://colab.research.google.com/github/SamsonChoo/advent_of_code/blob/main/Day%201/1a.ipynb\" target=\"_parent\"><img src=\"https://colab.research.google.com/assets/colab-badge.svg\" alt=\"Open In Colab\"/></a>"
      ]
    },
    {
      "cell_type": "code",
      "source": [
        "def getCalValue(line: str):\n",
        "  start = -1\n",
        "  end = -1\n",
        "  for char in line:\n",
        "    if char.isnumeric():\n",
        "      if start == -1:\n",
        "        start = char\n",
        "      end = char\n",
        "\n",
        "  return int(start+end)"
      ],
      "metadata": {
        "id": "mXxuvk71zrVW"
      },
      "execution_count": 1,
      "outputs": []
    },
    {
      "cell_type": "code",
      "source": [
        "file = open(\"input.txt\", \"r\")\n",
        "number = 0\n",
        "for line in file.readlines():\n",
        "    number += getCalValue(line)\n",
        "print(number)\n",
        "file.close()"
      ],
      "metadata": {
        "colab": {
          "base_uri": "https://localhost:8080/"
        },
        "id": "SF3V8zcFzp-O",
        "outputId": "7e8e3b4f-90d7-487d-d48b-f001cc945d80"
      },
      "execution_count": 2,
      "outputs": [
        {
          "output_type": "stream",
          "name": "stdout",
          "text": [
            "55816\n"
          ]
        }
      ]
    }
  ]
}